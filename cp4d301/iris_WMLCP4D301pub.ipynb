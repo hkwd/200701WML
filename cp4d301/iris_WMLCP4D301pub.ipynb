{
 "cells": [
  {
   "cell_type": "markdown",
   "metadata": {},
   "source": [
    "# モデル作成"
   ]
  },
  {
   "cell_type": "code",
   "execution_count": 1,
   "metadata": {},
   "outputs": [
    {
     "name": "stderr",
     "output_type": "stream",
     "text": [
      "/opt/conda/envs/Python-3.6-WMLCE/lib/python3.6/site-packages/ipykernel/__main__.py:17: DataConversionWarning: A column-vector y was passed when a 1d array was expected. Please change the shape of y to (n_samples,), for example using ravel().\n"
     ]
    },
    {
     "data": {
      "text/html": [
       "<div>\n",
       "<style scoped>\n",
       "    .dataframe tbody tr th:only-of-type {\n",
       "        vertical-align: middle;\n",
       "    }\n",
       "\n",
       "    .dataframe tbody tr th {\n",
       "        vertical-align: top;\n",
       "    }\n",
       "\n",
       "    .dataframe thead th {\n",
       "        text-align: right;\n",
       "    }\n",
       "</style>\n",
       "<table border=\"1\" class=\"dataframe\">\n",
       "  <thead>\n",
       "    <tr style=\"text-align: right;\">\n",
       "      <th></th>\n",
       "      <th>sepallength</th>\n",
       "      <th>sepalwidth</th>\n",
       "      <th>petallength</th>\n",
       "      <th>petalwidth</th>\n",
       "      <th>prediction</th>\n",
       "      <th>Setosa_prob</th>\n",
       "      <th>Virginica_prob</th>\n",
       "      <th>Versicolor_prob</th>\n",
       "    </tr>\n",
       "  </thead>\n",
       "  <tbody>\n",
       "    <tr>\n",
       "      <th>0</th>\n",
       "      <td>6.4</td>\n",
       "      <td>2.8</td>\n",
       "      <td>5.6</td>\n",
       "      <td>2.2</td>\n",
       "      <td>2</td>\n",
       "      <td>0.0</td>\n",
       "      <td>0.00</td>\n",
       "      <td>1.00</td>\n",
       "    </tr>\n",
       "    <tr>\n",
       "      <th>1</th>\n",
       "      <td>6.4</td>\n",
       "      <td>2.8</td>\n",
       "      <td>5.6</td>\n",
       "      <td>2.1</td>\n",
       "      <td>2</td>\n",
       "      <td>0.0</td>\n",
       "      <td>0.00</td>\n",
       "      <td>1.00</td>\n",
       "    </tr>\n",
       "    <tr>\n",
       "      <th>2</th>\n",
       "      <td>4.8</td>\n",
       "      <td>3.4</td>\n",
       "      <td>1.9</td>\n",
       "      <td>0.2</td>\n",
       "      <td>0</td>\n",
       "      <td>1.0</td>\n",
       "      <td>0.00</td>\n",
       "      <td>0.00</td>\n",
       "    </tr>\n",
       "    <tr>\n",
       "      <th>3</th>\n",
       "      <td>4.6</td>\n",
       "      <td>3.4</td>\n",
       "      <td>1.4</td>\n",
       "      <td>0.3</td>\n",
       "      <td>0</td>\n",
       "      <td>1.0</td>\n",
       "      <td>0.00</td>\n",
       "      <td>0.00</td>\n",
       "    </tr>\n",
       "    <tr>\n",
       "      <th>4</th>\n",
       "      <td>6.3</td>\n",
       "      <td>2.5</td>\n",
       "      <td>5.0</td>\n",
       "      <td>1.9</td>\n",
       "      <td>2</td>\n",
       "      <td>0.0</td>\n",
       "      <td>0.07</td>\n",
       "      <td>0.93</td>\n",
       "    </tr>\n",
       "  </tbody>\n",
       "</table>\n",
       "</div>"
      ],
      "text/plain": [
       "   sepallength  sepalwidth  petallength  petalwidth  prediction  Setosa_prob  \\\n",
       "0          6.4         2.8          5.6         2.2           2          0.0   \n",
       "1          6.4         2.8          5.6         2.1           2          0.0   \n",
       "2          4.8         3.4          1.9         0.2           0          1.0   \n",
       "3          4.6         3.4          1.4         0.3           0          1.0   \n",
       "4          6.3         2.5          5.0         1.9           2          0.0   \n",
       "\n",
       "   Virginica_prob  Versicolor_prob  \n",
       "0            0.00             1.00  \n",
       "1            0.00             1.00  \n",
       "2            0.00             0.00  \n",
       "3            0.00             0.00  \n",
       "4            0.07             0.93  "
      ]
     },
     "execution_count": 1,
     "metadata": {},
     "output_type": "execute_result"
    }
   ],
   "source": [
    "#irisデータの読み込み\n",
    "import sklearn\n",
    "from sklearn.datasets import load_iris\n",
    "iris = load_iris()\n",
    "import pandas as pd\n",
    "df = pd.DataFrame(iris.data, columns=[\"sepallength\", \"sepalwidth\", \"petallength\", \"petalwidth\"])\n",
    "df['target'] = iris.target\n",
    "y = df[[\"target\"]]\n",
    "x = df[[\"sepallength\", \"sepalwidth\", \"petallength\", \"petalwidth\"]]\n",
    "from sklearn.model_selection import train_test_split\n",
    "x_train, x_test, y_train, y_test = train_test_split(x, y, test_size=0.3)\n",
    "\n",
    "from sklearn.ensemble import RandomForestClassifier\n",
    "\n",
    "# 学習する\n",
    "model = RandomForestClassifier()\n",
    "model.fit(x_train, y_train)\n",
    "\n",
    "# スコアリングする\n",
    "x_test_r=x_test.reset_index(drop=True)\n",
    "x_test_r.join(pd.DataFrame(model.predict(x_test_r),columns=['prediction'])\\\n",
    "    .join(pd.DataFrame(model.predict_proba(x_test_r),columns=['Setosa_prob','Virginica_prob','Versicolor_prob']))\n",
    "                ).head()"
   ]
  },
  {
   "cell_type": "markdown",
   "metadata": {},
   "source": [
    "## ④WML Clientの接続"
   ]
  },
  {
   "cell_type": "code",
   "execution_count": 2,
   "metadata": {},
   "outputs": [
    {
     "name": "stdout",
     "output_type": "stream",
     "text": [
      "Requirement already up-to-date: watson-machine-learning-client-V4 in /opt/conda/envs/Python-3.6-WMLCE/lib/python3.6/site-packages (1.0.103)\n",
      "Requirement already satisfied, skipping upgrade: ibm-cos-sdk==2.6.0 in /opt/conda/envs/Python-3.6-WMLCE/lib/python3.6/site-packages (from watson-machine-learning-client-V4) (2.6.0)\n",
      "Requirement already satisfied, skipping upgrade: urllib3 in /user-home/_global_/python-3 (from watson-machine-learning-client-V4) (1.24.1)\n",
      "Requirement already satisfied, skipping upgrade: requests in /user-home/_global_/python-3 (from watson-machine-learning-client-V4) (2.21.0)\n",
      "Requirement already satisfied, skipping upgrade: certifi in /user-home/_global_/python-3 (from watson-machine-learning-client-V4) (2019.3.9)\n",
      "Requirement already satisfied, skipping upgrade: tabulate in /opt/conda/envs/Python-3.6-WMLCE/lib/python3.6/site-packages (from watson-machine-learning-client-V4) (0.8.2)\n",
      "Requirement already satisfied, skipping upgrade: lomond in /opt/conda/envs/Python-3.6-WMLCE/lib/python3.6/site-packages (from watson-machine-learning-client-V4) (0.3.3)\n",
      "Requirement already satisfied, skipping upgrade: pandas<=0.25.3 in /opt/conda/envs/Python-3.6-WMLCE/lib/python3.6/site-packages (from watson-machine-learning-client-V4) (0.24.2)\n",
      "Requirement already satisfied, skipping upgrade: ibm-cos-sdk-core==2.6.0 in /opt/conda/envs/Python-3.6-WMLCE/lib/python3.6/site-packages (from ibm-cos-sdk==2.6.0->watson-machine-learning-client-V4) (2.6.0)\n",
      "Requirement already satisfied, skipping upgrade: jmespath<1.0.0,>=0.7.1 in /opt/conda/envs/Python-3.6-WMLCE/lib/python3.6/site-packages (from ibm-cos-sdk==2.6.0->watson-machine-learning-client-V4) (0.9.3)\n",
      "Requirement already satisfied, skipping upgrade: ibm-cos-sdk-s3transfer==2.6.0 in /opt/conda/envs/Python-3.6-WMLCE/lib/python3.6/site-packages (from ibm-cos-sdk==2.6.0->watson-machine-learning-client-V4) (2.6.0)\n",
      "Requirement already satisfied, skipping upgrade: idna<2.9,>=2.5 in /user-home/_global_/python-3 (from requests->watson-machine-learning-client-V4) (2.8)\n",
      "Requirement already satisfied, skipping upgrade: chardet<3.1.0,>=3.0.2 in /user-home/_global_/python-3 (from requests->watson-machine-learning-client-V4) (3.0.4)\n",
      "Requirement already satisfied, skipping upgrade: six>=1.10.0 in /user-home/_global_/python-3 (from lomond->watson-machine-learning-client-V4) (1.12.0)\n",
      "Requirement already satisfied, skipping upgrade: python-dateutil>=2.5.0 in /opt/conda/envs/Python-3.6-WMLCE/lib/python3.6/site-packages (from pandas<=0.25.3->watson-machine-learning-client-V4) (2.7.5)\n",
      "Requirement already satisfied, skipping upgrade: pytz>=2011k in /opt/conda/envs/Python-3.6-WMLCE/lib/python3.6/site-packages (from pandas<=0.25.3->watson-machine-learning-client-V4) (2019.3)\n",
      "Requirement already satisfied, skipping upgrade: numpy>=1.12.0 in /opt/conda/envs/Python-3.6-WMLCE/lib/python3.6/site-packages (from pandas<=0.25.3->watson-machine-learning-client-V4) (1.16.6)\n",
      "Requirement already satisfied, skipping upgrade: docutils<0.16,>=0.10 in /opt/conda/envs/Python-3.6-WMLCE/lib/python3.6/site-packages (from ibm-cos-sdk-core==2.6.0->ibm-cos-sdk==2.6.0->watson-machine-learning-client-V4) (0.14)\n"
     ]
    }
   ],
   "source": [
    "#デフォルトの1.0.95だとCP4Dの3.0.1に対応していない\n",
    "#!pip install --upgrade  watson-machine-learning-client-V4==1.0.103\n",
    "!pip install --upgrade  watson-machine-learning-client-V4"
   ]
  },
  {
   "cell_type": "code",
   "execution_count": 3,
   "metadata": {},
   "outputs": [
    {
     "name": "stdout",
     "output_type": "stream",
     "text": [
      "Name: watson-machine-learning-client-V4\r\n",
      "Version: 1.0.103\r\n",
      "Summary: Watson Machine Learning API Client\r\n",
      "Home-page: http://wml-api-pyclient-v4.mybluemix.net\r\n",
      "Author: IBM\r\n",
      "Author-email: svagaral@in.ibm.com, nagiredd@in.ibm.com, amadeusz.masny1@ibm.com\r\n",
      "License: BSD\r\n",
      "Location: /opt/conda/envs/Python-3.6-WMLCE/lib/python3.6/site-packages\r\n",
      "Requires: ibm-cos-sdk, tabulate, requests, certifi, pandas, urllib3, lomond\r\n",
      "Required-by: \r\n"
     ]
    }
   ],
   "source": [
    "!pip show watson-machine-learning-client-V4"
   ]
  },
  {
   "cell_type": "markdown",
   "metadata": {},
   "source": [
    "Welcome to watson-machine-learning-client’s(V4) documentation! — watson-machine-learning-client(V4) 1.0 documentation\n",
    "https://wml-api-pyclient-dev-v4.mybluemix.net/"
   ]
  },
  {
   "cell_type": "code",
   "execution_count": 4,
   "metadata": {},
   "outputs": [
    {
     "name": "stdout",
     "output_type": "stream",
     "text": [
      "1.0.103\n"
     ]
    }
   ],
   "source": [
    "import sys,os,os.path\n",
    "\n",
    "token = os.environ['USER_ACCESS_TOKEN']\n",
    "from watson_machine_learning_client import WatsonMachineLearningAPIClient\n",
    "\n",
    "wml_credentials = {\n",
    "   \"token\": token,\n",
    "   \"instance_id\" : \"wml_local\",\n",
    "   \"url\": os.environ['RUNTIME_ENV_APSX_URL'],\n",
    "   \"version\": \"3.0.1\"\n",
    "}\n",
    "\n",
    "client = WatsonMachineLearningAPIClient(wml_credentials)\n",
    "print(client.version)\n",
    "\n"
   ]
  },
  {
   "cell_type": "markdown",
   "metadata": {},
   "source": [
    "# ⑤プロジェクトにモデル登録"
   ]
  },
  {
   "cell_type": "code",
   "execution_count": 5,
   "metadata": {},
   "outputs": [
    {
     "data": {
      "text/plain": [
       "'SUCCESS'"
      ]
     },
     "execution_count": 5,
     "metadata": {},
     "output_type": "execute_result"
    }
   ],
   "source": [
    "\n",
    "#プロジェクトに接続\n",
    "project_id = os.environ['PROJECT_ID']\n",
    "client.set.default_project(project_id)\n"
   ]
  },
  {
   "cell_type": "code",
   "execution_count": 6,
   "metadata": {},
   "outputs": [
    {
     "name": "stdout",
     "output_type": "stream",
     "text": [
      "------------------------  ----  --------  ------------------------------------------------------------------------------------------------------------------------------------------------------------------------------------------------------------------------------------------------------------------------------------------------------------------------------------------------------------------------------------------------------------------------------------\n",
      "META_PROP NAME            TYPE  REQUIRED  SCHEMA\n",
      "NAME                      str   Y\n",
      "DESCRIPTION               str   N\n",
      "INPUT_DATA_SCHEMA         list  N         {'id(required)': 'string', 'fields(required)': [{'name(required)': 'string', 'type(required)': 'string', 'nullable(optional)': 'string'}]}\n",
      "TRAINING_DATA_REFERENCES  list  N         [{'name(optional)': 'string', 'type(required)': 'string', 'connection(required)': {'endpoint_url(required)': 'string', 'access_key_id(required)': 'string', 'secret_access_key(required)': 'string'}, 'location(required)': {'bucket': 'string', 'path': 'string'}, 'schema(optional)': {'id(required)': 'string', 'fields(required)': [{'name(required)': 'string', 'type(required)': 'string', 'nullable(optional)': 'string'}]}}]\n",
      "OUTPUT_DATA_SCHEMA        dict  N         {'id(required)': 'string', 'fields(required)': [{'name(required)': 'string', 'type(required)': 'string', 'nullable(optional)': 'string'}]}\n",
      "LABEL_FIELD               str   N\n",
      "TRANSFORMED_LABEL_FIELD   str   N\n",
      "TAGS                      list  N         [{'value(required)': 'string', 'description(optional)': 'string'}]\n",
      "SIZE                      dict  N         {'in_memory(optional)': 'string', 'content(optional)': 'string'}\n",
      "SPACE_UID                 str   N\n",
      "PIPELINE_UID              str   N\n",
      "RUNTIME_UID               str   N\n",
      "TYPE                      str   Y\n",
      "CUSTOM                    dict  N\n",
      "DOMAIN                    str   N\n",
      "HYPER_PARAMETERS          dict  N\n",
      "METRICS                   list  N\n",
      "IMPORT                    dict  N         {'name(optional)': 'string', 'type(required)': 'string', 'connection(required)': {'endpoint_url(required)': 'string', 'access_key_id(required)': 'string', 'secret_access_key(required)': 'string'}, 'location(required)': {'bucket': 'string', 'path': 'string'}}\n",
      "TRAINING_LIB_UID          str   N\n",
      "MODEL_DEFINITION_UID      str   N\n",
      "SOFTWARE_SPEC_UID         str   N\n",
      "------------------------  ----  --------  ------------------------------------------------------------------------------------------------------------------------------------------------------------------------------------------------------------------------------------------------------------------------------------------------------------------------------------------------------------------------------------------------------------------------------------\n"
     ]
    }
   ],
   "source": [
    "client.repository.ModelMetaNames.show()"
   ]
  },
  {
   "cell_type": "code",
   "execution_count": 7,
   "metadata": {},
   "outputs": [
    {
     "data": {
      "text/plain": [
       "[{'name': 'sepallength', 'type': 'float64'},\n",
       " {'name': 'sepalwidth', 'type': 'float64'},\n",
       " {'name': 'petallength', 'type': 'float64'},\n",
       " {'name': 'petalwidth', 'type': 'float64'}]"
      ]
     },
     "execution_count": 7,
     "metadata": {},
     "output_type": "execute_result"
    }
   ],
   "source": [
    "#INPUT_DATA_SCHEMAを生成\n",
    "import json\n",
    "#x_fields=json.loads(x_train.to_json(orient='table'))['schema']['fields'][1:]\n",
    "x_fields=[{'name': i, 'type': str(v)} for i,v in x_train.dtypes.items()]\n",
    "x_fields"
   ]
  },
  {
   "cell_type": "code",
   "execution_count": 8,
   "metadata": {
    "scrolled": true
   },
   "outputs": [
    {
     "data": {
      "text/plain": [
       "[{'name': 'prediction',\n",
       "  'type': 'int64',\n",
       "  'metadata': {'modeling_role': 'prediction'}},\n",
       " {'name': 'probability',\n",
       "  'type': 'list',\n",
       "  'metadata': {'modeling_role': 'probability'}}]"
      ]
     },
     "execution_count": 8,
     "metadata": {},
     "output_type": "execute_result"
    }
   ],
   "source": [
    "#OUTPUT_DATA_SCHEMAを生成\n",
    "#y_fields=[json.loads(y_train.to_json(orient='table'))['schema']['fields'][1:][0]]\n",
    "#y_fields[0]['metadata']={'modeling_role': 'prediction'}\n",
    "y_fields=[{'name': 'prediction', 'type': str(y_train.dtypes[0]),'metadata': {'modeling_role': 'prediction'}}]\n",
    "y_fields.append({'name': 'probability', 'type': 'list','metadata': {'modeling_role': 'probability'}})\n",
    "y_fields"
   ]
  },
  {
   "cell_type": "code",
   "execution_count": 9,
   "metadata": {},
   "outputs": [
    {
     "name": "stdout",
     "output_type": "stream",
     "text": [
      "0.22.1\n"
     ]
    }
   ],
   "source": [
    "print(sklearn.__version__) "
   ]
  },
  {
   "cell_type": "code",
   "execution_count": 10,
   "metadata": {},
   "outputs": [
    {
     "data": {
      "text/plain": [
       "'a9c0e31b-fc8b-4ab5-bafe-45cf42c62e37'"
      ]
     },
     "execution_count": 10,
     "metadata": {},
     "output_type": "execute_result"
    }
   ],
   "source": [
    "model_name = 'iris_skl_model'\n",
    "#scikit learnが0.22の場合はRUNTIME_UIDではなくSOFTWARE_SPEC_UIDの指定が必要\n",
    "sw_spec_uid = client.software_specifications.get_uid_by_name(\"scikit-learn_0.22-py3.6\")\n",
    "\n",
    "#モデルのメタデータを定義\n",
    "pro_model_meta_props = {\n",
    "    client.repository.ModelMetaNames.NAME: model_name,\n",
    "    client.repository.ModelMetaNames.SOFTWARE_SPEC_UID: sw_spec_uid,\n",
    "    client.repository.ModelMetaNames.TYPE: \"scikit-learn_0.22\",\n",
    "#    client.repository.ModelMetaNames.RUNTIME_UID: \"scikit-learn_0.20-py3\"\n",
    "    client.repository.ModelMetaNames.INPUT_DATA_SCHEMA:[{\n",
    "        \"id\":\"input1\",\n",
    "        \"fields\":x_fields\n",
    "    }],\n",
    "    client.repository.ModelMetaNames.OUTPUT_DATA_SCHEMA: {\n",
    "        \"id\":\"output\",\n",
    "        \"fields\": y_fields}\n",
    "}\n",
    "\n",
    "#プロジェクトにモデルを保存\n",
    "stored_pro_model_details = client.repository.store_model(model,\n",
    "                                               meta_props=pro_model_meta_props,\n",
    "                                               training_data=x_train,\n",
    "                                               training_target=y_train)\n",
    "#stored_model_details\n",
    "pro_model_uid=stored_pro_model_details['metadata']['guid']\n",
    "pro_model_uid"
   ]
  },
  {
   "cell_type": "code",
   "execution_count": 11,
   "metadata": {},
   "outputs": [
    {
     "name": "stdout",
     "output_type": "stream",
     "text": [
      "------------------------------------  --------------  ------------------------  -----------------\n",
      "GUID                                  NAME            CREATED                   TYPE\n",
      "a9c0e31b-fc8b-4ab5-bafe-45cf42c62e37  iris_skl_model  2020-07-02T07:07:41.002Z  scikit-learn_0.22\n",
      "------------------------------------  --------------  ------------------------  -----------------\n"
     ]
    }
   ],
   "source": [
    "client.repository.list_models()"
   ]
  },
  {
   "cell_type": "markdown",
   "metadata": {},
   "source": [
    "# ⑥デプロイメントスペースにモデルを登録"
   ]
  },
  {
   "cell_type": "code",
   "execution_count": 12,
   "metadata": {},
   "outputs": [
    {
     "name": "stdout",
     "output_type": "stream",
     "text": [
      "------------------------------------  ------------  ------------------------\n",
      "GUID                                  NAME          CREATED\n",
      "7402f0d1-b651-4302-9527-9e5ae7b040a2  test_dp       2020-07-01T09:34:55.140Z\n",
      "d77a074e-7c37-4e5d-abd3-7d96684973a7  ds_hkwd_20Q2  2020-06-24T09:41:49.756Z\n",
      "77057008-9e46-4fb2-bccb-11ebc7711416  deploy_hkwd   2020-06-23T09:46:26.908Z\n",
      "------------------------------------  ------------  ------------------------\n"
     ]
    }
   ],
   "source": [
    "client.spaces.list()"
   ]
  },
  {
   "cell_type": "code",
   "execution_count": 13,
   "metadata": {},
   "outputs": [
    {
     "name": "stdout",
     "output_type": "stream",
     "text": [
      "7402f0d1-b651-4302-9527-9e5ae7b040a2\n"
     ]
    }
   ],
   "source": [
    "#関連付けられたデプロイメント・スペースのIDを取得\n",
    "import json, requests\n",
    "# get project info\n",
    "r = requests.get(os.environ['RUNTIME_ENV_APSX_URL'] + \"/v2/projects/\" + os.environ['PROJECT_ID'], headers = {\"Authorization\": \"Bearer \" + os.environ['USER_ACCESS_TOKEN']})\n",
    "wmlProjectCompute = [c for c in r.json()[\"entity\"][\"compute\"] if c[\"type\"] == \"machine_learning\"][0]\n",
    "space_uid = wmlProjectCompute[\"properties\"][\"space_guid\"]\n",
    "print(space_uid)"
   ]
  },
  {
   "cell_type": "code",
   "execution_count": 14,
   "metadata": {},
   "outputs": [
    {
     "name": "stdout",
     "output_type": "stream",
     "text": [
      "Unsetting the project_id ...\n"
     ]
    },
    {
     "data": {
      "text/plain": [
       "'SUCCESS'"
      ]
     },
     "execution_count": 14,
     "metadata": {},
     "output_type": "execute_result"
    }
   ],
   "source": [
    "#デプロイメントスペースに接続\n",
    "client.set.default_space(space_uid)"
   ]
  },
  {
   "cell_type": "code",
   "execution_count": 15,
   "metadata": {},
   "outputs": [
    {
     "data": {
      "text/plain": [
       "'a06d9646-8829-4a6f-9751-4b95779f2821'"
      ]
     },
     "execution_count": 15,
     "metadata": {},
     "output_type": "execute_result"
    }
   ],
   "source": [
    "# モデルのメタデータにデプロイメントスペースのIDを追加\n",
    "ds_model_meta_props=pro_model_meta_props\n",
    "ds_model_meta_props[client.repository.ModelMetaNames.SPACE_UID]= space_uid\n",
    "\n",
    "#デプロイメントスペースにモデルを保存\n",
    "stored_ds_model_details = client.repository.store_model(model,\n",
    "                                               meta_props=ds_model_meta_props,\n",
    "                                               training_data=x_train,\n",
    "                                               training_target=y_train)\n",
    "ds_model_uid = stored_ds_model_details[\"metadata\"][\"guid\"]\n",
    "ds_model_uid "
   ]
  },
  {
   "cell_type": "code",
   "execution_count": 16,
   "metadata": {},
   "outputs": [
    {
     "name": "stdout",
     "output_type": "stream",
     "text": [
      "------------------------------------  --------------  ------------------------  -----------------\n",
      "GUID                                  NAME            CREATED                   TYPE\n",
      "a06d9646-8829-4a6f-9751-4b95779f2821  iris_skl_model  2020-07-02T07:07:43.002Z  scikit-learn_0.22\n",
      "------------------------------------  --------------  ------------------------  -----------------\n"
     ]
    }
   ],
   "source": [
    "client.repository.list_models()"
   ]
  },
  {
   "cell_type": "markdown",
   "metadata": {},
   "source": [
    "# ⑦モデルをオンラインスコアリングとしてデプロイ"
   ]
  },
  {
   "cell_type": "code",
   "execution_count": 17,
   "metadata": {},
   "outputs": [
    {
     "data": {
      "text/plain": [
       "['ASSET',\n",
       " 'AUTO_REDEPLOY',\n",
       " 'BATCH',\n",
       " 'COMPUTE',\n",
       " 'CUSTOM',\n",
       " 'DESCRIPTION',\n",
       " 'HARDWARE_SPEC',\n",
       " 'HYBRID_PIPELINE_HARDWARE_SPECS',\n",
       " 'NAME',\n",
       " 'ONLINE',\n",
       " 'R_SHINY',\n",
       " 'SPACE_UID',\n",
       " 'TAGS',\n",
       " 'VIRTUAL']"
      ]
     },
     "execution_count": 17,
     "metadata": {},
     "output_type": "execute_result"
    }
   ],
   "source": [
    "#client.repository.ModelMetaNames.show()\n",
    "#client.deployments.metanames.DeploymentMetaNames()\n",
    "#client.deployments.DeploymentMetaNames()\n",
    "client.deployments.ConfigurationMetaNames.get()"
   ]
  },
  {
   "cell_type": "code",
   "execution_count": 18,
   "metadata": {},
   "outputs": [
    {
     "name": "stdout",
     "output_type": "stream",
     "text": [
      "\n",
      "\n",
      "#######################################################################################\n",
      "\n",
      "Synchronous deployment creation for uid: 'a06d9646-8829-4a6f-9751-4b95779f2821' started\n",
      "\n",
      "#######################################################################################\n",
      "\n",
      "\n",
      "initializing\n",
      "ready\n",
      "\n",
      "\n",
      "------------------------------------------------------------------------------------------------\n",
      "Successfully finished deployment creation, deployment_uid='34230b0a-68c8-454a-a485-f18e9b98180b'\n",
      "------------------------------------------------------------------------------------------------\n",
      "\n",
      "\n"
     ]
    }
   ],
   "source": [
    "deployment_on_name = 'iris_skl_model_rt'\n",
    "# オンラインスコアリングのメタデータ定義\n",
    "deploy_on_meta_props = {\n",
    "    client.deployments.ConfigurationMetaNames.NAME: deployment_on_name,\n",
    "    client.deployments.ConfigurationMetaNames.ONLINE: {}\n",
    "}\n",
    "\n",
    "# モデルのデプロイ\n",
    "deployment_on_details = client.deployments.create(\n",
    "    artifact_uid=ds_model_uid, \n",
    "    meta_props=deploy_on_meta_props)"
   ]
  },
  {
   "cell_type": "code",
   "execution_count": 19,
   "metadata": {},
   "outputs": [
    {
     "name": "stdout",
     "output_type": "stream",
     "text": [
      "Deployment uid = 34230b0a-68c8-454a-a485-f18e9b98180b\n"
     ]
    }
   ],
   "source": [
    "deployment_on_uid = client.deployments.get_uid(deployment_on_details)\n",
    "print('Deployment uid = {}'.format(deployment_on_uid))"
   ]
  },
  {
   "cell_type": "code",
   "execution_count": 20,
   "metadata": {},
   "outputs": [
    {
     "name": "stdout",
     "output_type": "stream",
     "text": [
      "------------------------------------  -----------------  -----  ------------------------  -------------\n",
      "GUID                                  NAME               STATE  CREATED                   ARTIFACT_TYPE\n",
      "34230b0a-68c8-454a-a485-f18e9b98180b  iris_skl_model_rt  ready  2020-07-02T07:07:44.341Z  model\n",
      "------------------------------------  -----------------  -----  ------------------------  -------------\n"
     ]
    }
   ],
   "source": [
    "client.deployments.list()"
   ]
  },
  {
   "cell_type": "markdown",
   "metadata": {},
   "source": [
    "# スコアリング"
   ]
  },
  {
   "cell_type": "code",
   "execution_count": 21,
   "metadata": {},
   "outputs": [
    {
     "name": "stdout",
     "output_type": "stream",
     "text": [
      "{'input_data': [{'fields': ['sepallength',\n",
      "                            'sepalwidth',\n",
      "                            'petallength',\n",
      "                            'petalwidth'],\n",
      "                 'values': [[6.4, 2.8, 5.6, 2.2], [6.4, 2.8, 5.6, 2.1]]}]}\n"
     ]
    }
   ],
   "source": [
    "from pprint import pprint\n",
    "payload = {\n",
    "    client.deployments.ScoringMetaNames.INPUT_DATA:[{\n",
    "        \"fields\": x_test.columns.tolist(),\n",
    "#        \"values\": [list(x_test.iloc[0]), list(x_test.iloc[1])]\n",
    "        \"values\": x_test[0:2].values.tolist()\n",
    "    }]\n",
    "}\n",
    "pprint(payload)"
   ]
  },
  {
   "cell_type": "code",
   "execution_count": 22,
   "metadata": {},
   "outputs": [
    {
     "name": "stdout",
     "output_type": "stream",
     "text": [
      "{'predictions': [{'fields': ['prediction', 'probability'],\n",
      "                  'values': [[2, [0.0, 0.0, 1.0]], [2, [0.0, 0.0, 1.0]]]}]}\n"
     ]
    }
   ],
   "source": [
    "from pprint import pprint\n",
    "predict=client.deployments.score(deployment_on_uid, payload )\n",
    "pprint(predict)"
   ]
  },
  {
   "cell_type": "markdown",
   "metadata": {},
   "source": [
    "# クリーンアップ"
   ]
  },
  {
   "cell_type": "code",
   "execution_count": 23,
   "metadata": {},
   "outputs": [],
   "source": [
    "#デプロイメントの削除\n",
    "#client.deployments.delete(deployment_on_uid)\n",
    "#デプロイメントスペースのモデル削除\n",
    "#client.repository.delete(ds_model_uid)\n"
   ]
  },
  {
   "cell_type": "code",
   "execution_count": 24,
   "metadata": {},
   "outputs": [],
   "source": [
    "#プロジェクトのモデル削除\n",
    "#client.set.default_project(project_id)\n",
    "#client.repository.delete(pro_model_uid)"
   ]
  }
 ],
 "metadata": {
  "kernelspec": {
   "display_name": "Python 3.6",
   "language": "python",
   "name": "python3"
  },
  "language_info": {
   "codemirror_mode": {
    "name": "ipython",
    "version": 3
   },
   "file_extension": ".py",
   "mimetype": "text/x-python",
   "name": "python",
   "nbconvert_exporter": "python",
   "pygments_lexer": "ipython3",
   "version": "3.6.10"
  }
 },
 "nbformat": 4,
 "nbformat_minor": 4
}
